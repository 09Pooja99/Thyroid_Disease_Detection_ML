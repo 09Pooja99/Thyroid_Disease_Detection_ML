{
 "cells": [
  {
   "cell_type": "code",
   "execution_count": 5,
   "metadata": {},
   "outputs": [],
   "source": [
    "data_path = r\"E:\\Internship_Projects\\Thyroid_Disease_Detection_ML\\thyroid_detection\\artifact\\data_transformation\\2025-03-21-06-05-22\\transformed_data\\train\\train.npz\""
   ]
  },
  {
   "cell_type": "code",
   "execution_count": 2,
   "metadata": {},
   "outputs": [],
   "source": [
    "import numpy as np\n",
    "import os\n",
    "import pandas as pd\n"
   ]
  },
  {
   "cell_type": "code",
   "execution_count": 6,
   "metadata": {},
   "outputs": [
    {
     "name": "stdout",
     "output_type": "stream",
     "text": [
      "X shape: (6402, 37)\n"
     ]
    }
   ],
   "source": [
    "X = np.load(data_path, allow_pickle=True)\n",
    "print(\"X shape:\", X.shape)"
   ]
  },
  {
   "cell_type": "code",
   "execution_count": 7,
   "metadata": {},
   "outputs": [
    {
     "name": "stdout",
     "output_type": "stream",
     "text": [
      "First 5 rows of X:\n",
      " [[ 0.4425525   1.53380009 -0.16894122 -0.41242859  0.2741394  -0.73565356\n",
      "   1.          0.          1.          0.          1.          0.\n",
      "   1.          0.          1.          0.          1.          0.\n",
      "   1.          0.          1.          0.          1.          0.\n",
      "   1.          0.          1.          0.          1.          0.\n",
      "   1.          0.          1.          0.          1.          0.\n",
      "   2.        ]\n",
      " [ 0.          0.          0.          0.          0.          0.\n",
      "   1.          0.          1.          0.          1.          0.\n",
      "   1.          0.          1.          0.          1.          0.\n",
      "   1.          0.          1.          0.          1.          0.\n",
      "   1.          0.          1.          0.          1.          0.\n",
      "   1.          0.          1.          0.          1.          0.\n",
      "   2.        ]\n",
      " [-1.23110288  0.05371022  0.16340115  0.76100105  0.          0.\n",
      "   1.          0.          1.          0.          1.          0.\n",
      "   1.          0.          1.          0.          1.          0.\n",
      "   1.          0.          1.          0.          1.          0.\n",
      "   1.          0.          1.          0.          1.          0.\n",
      "   1.          0.          1.          0.          1.          0.\n",
      "   2.        ]\n",
      " [ 0.48757293 -0.34959038  0.         -0.09045266  0.32815631 -0.39204831\n",
      "   1.          0.          1.          0.          1.          0.\n",
      "   1.          0.          1.          0.          1.          0.\n",
      "   1.          0.          1.          0.          1.          0.\n",
      "   1.          0.          1.          0.          1.          0.\n",
      "   1.          0.          1.          0.          1.          0.\n",
      "   2.        ]\n",
      " [-1.66220486  2.7495927   0.          0.02957746  0.          0.\n",
      "   0.          1.          1.          0.          1.          0.\n",
      "   1.          0.          1.          0.          1.          0.\n",
      "   1.          0.          1.          0.          1.          0.\n",
      "   1.          0.          1.          0.          1.          0.\n",
      "   1.          0.          1.          0.          1.          0.\n",
      "   2.        ]]\n"
     ]
    }
   ],
   "source": [
    "print(\"First 5 rows of X:\\n\", X[:5])  # Preview first 5 rows\n"
   ]
  },
  {
   "cell_type": "code",
   "execution_count": 8,
   "metadata": {},
   "outputs": [
    {
     "name": "stdout",
     "output_type": "stream",
     "text": [
      "Features shape: (6402, 36)\n",
      "Labels shape: (6402,)\n"
     ]
    }
   ],
   "source": [
    "X_features = X[:, :-1]  # All columns except the last\n",
    "y_labels = X[:, -1]  # Last column (assumed to be labels)\n",
    "\n",
    "print(\"Features shape:\", X_features.shape)\n",
    "print(\"Labels shape:\", y_labels.shape)\n"
   ]
  },
  {
   "cell_type": "code",
   "execution_count": 9,
   "metadata": {},
   "outputs": [
    {
     "name": "stdout",
     "output_type": "stream",
     "text": [
      "          0         1         2         3         4         5    6    7    8  \\\n",
      "0  0.442552  1.533800 -0.168941 -0.412429  0.274139 -0.735654  1.0  0.0  1.0   \n",
      "1  0.000000  0.000000  0.000000  0.000000  0.000000  0.000000  1.0  0.0  1.0   \n",
      "2 -1.231103  0.053710  0.163401  0.761001  0.000000  0.000000  1.0  0.0  1.0   \n",
      "3  0.487573 -0.349590  0.000000 -0.090453  0.328156 -0.392048  1.0  0.0  1.0   \n",
      "4 -1.662205  2.749593  0.000000  0.029577  0.000000  0.000000  0.0  1.0  1.0   \n",
      "\n",
      "     9  ...   27   28   29   30   31   32   33   34   35  Target  \n",
      "0  0.0  ...  0.0  1.0  0.0  1.0  0.0  1.0  0.0  1.0  0.0     2.0  \n",
      "1  0.0  ...  0.0  1.0  0.0  1.0  0.0  1.0  0.0  1.0  0.0     2.0  \n",
      "2  0.0  ...  0.0  1.0  0.0  1.0  0.0  1.0  0.0  1.0  0.0     2.0  \n",
      "3  0.0  ...  0.0  1.0  0.0  1.0  0.0  1.0  0.0  1.0  0.0     2.0  \n",
      "4  0.0  ...  0.0  1.0  0.0  1.0  0.0  1.0  0.0  1.0  0.0     2.0  \n",
      "\n",
      "[5 rows x 37 columns]\n"
     ]
    }
   ],
   "source": [
    "# Convert features to DataFrame\n",
    "df_X = pd.DataFrame(X_features)\n",
    "\n",
    "# Convert labels to a Series\n",
    "df_y = pd.Series(y_labels, name=\"Target\")  \n",
    "\n",
    "# Combine features and labels into one DataFrame\n",
    "df = pd.concat([df_X, df_y], axis=1)\n",
    "\n",
    "# Display the first few rows\n",
    "print(df.head())"
   ]
  },
  {
   "cell_type": "code",
   "execution_count": 11,
   "metadata": {},
   "outputs": [
    {
     "name": "stdout",
     "output_type": "stream",
     "text": [
      "null counts if present : 0         0\n",
      "1         0\n",
      "2         0\n",
      "3         0\n",
      "4         0\n",
      "5         0\n",
      "6         0\n",
      "7         0\n",
      "8         0\n",
      "9         0\n",
      "10        0\n",
      "11        0\n",
      "12        0\n",
      "13        0\n",
      "14        0\n",
      "15        0\n",
      "16        0\n",
      "17        0\n",
      "18        0\n",
      "19        0\n",
      "20        0\n",
      "21        0\n",
      "22        0\n",
      "23        0\n",
      "24        0\n",
      "25        0\n",
      "26        0\n",
      "27        0\n",
      "28        0\n",
      "29        0\n",
      "30        0\n",
      "31        0\n",
      "32        0\n",
      "33        0\n",
      "34        0\n",
      "35        0\n",
      "Target    0\n",
      "dtype: int64\n"
     ]
    }
   ],
   "source": [
    "print(\"null counts if present :\", df.isnull().sum())"
   ]
  },
  {
   "cell_type": "code",
   "execution_count": 12,
   "metadata": {},
   "outputs": [
    {
     "name": "stdout",
     "output_type": "stream",
     "text": [
      "1.0    2134\n",
      "0.0    2134\n",
      "2.0    2134\n",
      "Name: Target, dtype: int64\n"
     ]
    }
   ],
   "source": [
    "import seaborn as sns\n",
    "import matplotlib.pyplot as plt\n",
    "\n",
    "# Count of each class in the target variable\n",
    "class_counts = df[\"Target\"].value_counts()\n",
    "print(class_counts)"
   ]
  },
  {
   "cell_type": "markdown",
   "metadata": {},
   "source": [
    "from imblearn.over_sampling import SMOTE\n",
    "from collections import Counter\n",
    "\n",
    "# Define features and target\n",
    "X = df.iloc[:, :-1]  # Features\n",
    "y = df[\"Target\"]  # Target variable\n",
    "\n",
    "# Apply SMOTE\n",
    "smote = SMOTE(sampling_strategy=\"auto\", random_state=42)  # Auto balances all classes\n",
    "X_resampled, y_resampled = smote.fit_resample(X, y)\n",
    "\n",
    "# Check new class distribution\n",
    "print(\"After SMOTE:\", Counter(y_resampled))\n"
   ]
  },
  {
   "cell_type": "code",
   "execution_count": 13,
   "metadata": {},
   "outputs": [
    {
     "data": {
      "image/png": "[encoded data removed]",
      "text/plain": [
       "<Figure size 640x480 with 1 Axes>"
      ]
     },
     "metadata": {},
     "output_type": "display_data"
    }
   ],
   "source": [
    "import seaborn as sns\n",
    "import matplotlib.pyplot as plt\n",
    "\n",
    "sns.countplot(x=df[\"Target\"], palette=\"viridis\")\n",
    "plt.xlabel(\"Class Labels\")\n",
    "plt.ylabel(\"Count\")\n",
    "plt.title(\"Balanced Class Distribution After SMOTE\")\n",
    "plt.show()\n"
   ]
  },
  {
   "cell_type": "code",
   "execution_count": 16,
   "metadata": {},
   "outputs": [
    {
     "name": "stdout",
     "output_type": "stream",
     "text": [
      "Unique labels in y_train: [0 1]\n",
      "Fitting 3 folds for each of 4 candidates, totalling 12 fits\n"
     ]
    },
    {
     "ename": "TerminatedWorkerError",
     "evalue": "A worker process managed by the executor was unexpectedly terminated. This could be caused by a segmentation fault while calling the function or by an excessive memory usage causing the Operating System to kill the worker.\n",
     "output_type": "error",
     "traceback": [
      "\u001b[1;31m---------------------------------------------------------------------------\u001b[0m",
      "\u001b[1;31mTerminatedWorkerError\u001b[0m                     Traceback (most recent call last)",
      "\u001b[1;32m~\\AppData\\Local\\Temp\\ipykernel_13624\\319293250.py\u001b[0m in \u001b[0;36m<module>\u001b[1;34m\u001b[0m\n\u001b[0;32m     13\u001b[0m \u001b[1;31m# Run GridSearchCV\u001b[0m\u001b[1;33m\u001b[0m\u001b[1;33m\u001b[0m\u001b[0m\n\u001b[0;32m     14\u001b[0m \u001b[0mclf\u001b[0m \u001b[1;33m=\u001b[0m \u001b[0mGridSearchCV\u001b[0m\u001b[1;33m(\u001b[0m\u001b[0mRandomForestClassifier\u001b[0m\u001b[1;33m(\u001b[0m\u001b[1;33m)\u001b[0m\u001b[1;33m,\u001b[0m \u001b[0mparam_grid\u001b[0m\u001b[1;33m,\u001b[0m \u001b[0mcv\u001b[0m\u001b[1;33m=\u001b[0m\u001b[1;36m3\u001b[0m\u001b[1;33m,\u001b[0m \u001b[0mscoring\u001b[0m\u001b[1;33m=\u001b[0m\u001b[1;34m\"accuracy\"\u001b[0m\u001b[1;33m,\u001b[0m \u001b[0mverbose\u001b[0m\u001b[1;33m=\u001b[0m\u001b[1;36m3\u001b[0m\u001b[1;33m,\u001b[0m \u001b[0mn_jobs\u001b[0m\u001b[1;33m=\u001b[0m\u001b[1;33m-\u001b[0m\u001b[1;36m1\u001b[0m\u001b[1;33m)\u001b[0m\u001b[1;33m\u001b[0m\u001b[0m\n\u001b[1;32m---> 15\u001b[1;33m \u001b[0mclf\u001b[0m\u001b[1;33m.\u001b[0m\u001b[0mfit\u001b[0m\u001b[1;33m(\u001b[0m\u001b[0mX\u001b[0m\u001b[1;33m,\u001b[0m \u001b[0my\u001b[0m\u001b[1;33m)\u001b[0m\u001b[1;33m\u001b[0m\u001b[0m\n\u001b[0m\u001b[0;32m     16\u001b[0m \u001b[1;33m\u001b[0m\u001b[0m\n\u001b[0;32m     17\u001b[0m \u001b[0mprint\u001b[0m\u001b[1;33m(\u001b[0m\u001b[1;34m\"Best Parameters:\"\u001b[0m\u001b[1;33m,\u001b[0m \u001b[0mclf\u001b[0m\u001b[1;33m.\u001b[0m\u001b[0mbest_params_\u001b[0m\u001b[1;33m)\u001b[0m\u001b[1;33m\u001b[0m\u001b[0m\n",
      "\u001b[1;32me:\\Internship_Projects\\Thyroid_Disease_Detection_ML\\myvenv\\lib\\site-packages\\sklearn\\model_selection\\_search.py\u001b[0m in \u001b[0;36mfit\u001b[1;34m(self, X, y, groups, **fit_params)\u001b[0m\n\u001b[0;32m    889\u001b[0m                 \u001b[1;32mreturn\u001b[0m \u001b[0mresults\u001b[0m\u001b[1;33m\u001b[0m\u001b[0m\n\u001b[0;32m    890\u001b[0m \u001b[1;33m\u001b[0m\u001b[0m\n\u001b[1;32m--> 891\u001b[1;33m             \u001b[0mself\u001b[0m\u001b[1;33m.\u001b[0m\u001b[0m_run_search\u001b[0m\u001b[1;33m(\u001b[0m\u001b[0mevaluate_candidates\u001b[0m\u001b[1;33m)\u001b[0m\u001b[1;33m\u001b[0m\u001b[0m\n\u001b[0m\u001b[0;32m    892\u001b[0m \u001b[1;33m\u001b[0m\u001b[0m\n\u001b[0;32m    893\u001b[0m             \u001b[1;31m# multimetric is determined here because in the case of a callable\u001b[0m\u001b[1;33m\u001b[0m\u001b[1;33m\u001b[0m\u001b[0m\n",
      "\u001b[1;32me:\\Internship_Projects\\Thyroid_Disease_Detection_ML\\myvenv\\lib\\site-packages\\sklearn\\model_selection\\_search.py\u001b[0m in \u001b[0;36m_run_search\u001b[1;34m(self, evaluate_candidates)\u001b[0m\n\u001b[0;32m   1390\u001b[0m     \u001b[1;32mdef\u001b[0m \u001b[0m_run_search\u001b[0m\u001b[1;33m(\u001b[0m\u001b[0mself\u001b[0m\u001b[1;33m,\u001b[0m \u001b[0mevaluate_candidates\u001b[0m\u001b[1;33m)\u001b[0m\u001b[1;33m:\u001b[0m\u001b[1;33m\u001b[0m\u001b[0m\n\u001b[0;32m   1391\u001b[0m         \u001b[1;34m\"\"\"Search all candidates in param_grid\"\"\"\u001b[0m\u001b[1;33m\u001b[0m\u001b[0m\n\u001b[1;32m-> 1392\u001b[1;33m         \u001b[0mevaluate_candidates\u001b[0m\u001b[1;33m(\u001b[0m\u001b[0mParameterGrid\u001b[0m\u001b[1;33m(\u001b[0m\u001b[0mself\u001b[0m\u001b[1;33m.\u001b[0m\u001b[0mparam_grid\u001b[0m\u001b[1;33m)\u001b[0m\u001b[1;33m)\u001b[0m\u001b[1;33m\u001b[0m\u001b[0m\n\u001b[0m\u001b[0;32m   1393\u001b[0m \u001b[1;33m\u001b[0m\u001b[0m\n\u001b[0;32m   1394\u001b[0m \u001b[1;33m\u001b[0m\u001b[0m\n",
      "\u001b[1;32me:\\Internship_Projects\\Thyroid_Disease_Detection_ML\\myvenv\\lib\\site-packages\\sklearn\\model_selection\\_search.py\u001b[0m in \u001b[0;36mevaluate_candidates\u001b[1;34m(candidate_params, cv, more_results)\u001b[0m\n\u001b[0;32m    849\u001b[0m                     )\n\u001b[0;32m    850\u001b[0m                     for (cand_idx, parameters), (split_idx, (train, test)) in product(\n\u001b[1;32m--> 851\u001b[1;33m                         \u001b[0menumerate\u001b[0m\u001b[1;33m(\u001b[0m\u001b[0mcandidate_params\u001b[0m\u001b[1;33m)\u001b[0m\u001b[1;33m,\u001b[0m \u001b[0menumerate\u001b[0m\u001b[1;33m(\u001b[0m\u001b[0mcv\u001b[0m\u001b[1;33m.\u001b[0m\u001b[0msplit\u001b[0m\u001b[1;33m(\u001b[0m\u001b[0mX\u001b[0m\u001b[1;33m,\u001b[0m \u001b[0my\u001b[0m\u001b[1;33m,\u001b[0m \u001b[0mgroups\u001b[0m\u001b[1;33m)\u001b[0m\u001b[1;33m)\u001b[0m\u001b[1;33m\u001b[0m\u001b[0m\n\u001b[0m\u001b[0;32m    852\u001b[0m                     )\n\u001b[0;32m    853\u001b[0m                 )\n",
      "\u001b[1;32me:\\Internship_Projects\\Thyroid_Disease_Detection_ML\\myvenv\\lib\\site-packages\\joblib\\parallel.py\u001b[0m in \u001b[0;36m__call__\u001b[1;34m(self, iterable)\u001b[0m\n\u001b[0;32m   1950\u001b[0m         \u001b[0mnext\u001b[0m\u001b[1;33m(\u001b[0m\u001b[0moutput\u001b[0m\u001b[1;33m)\u001b[0m\u001b[1;33m\u001b[0m\u001b[0m\n\u001b[0;32m   1951\u001b[0m \u001b[1;33m\u001b[0m\u001b[0m\n\u001b[1;32m-> 1952\u001b[1;33m         \u001b[1;32mreturn\u001b[0m \u001b[0moutput\u001b[0m \u001b[1;32mif\u001b[0m \u001b[0mself\u001b[0m\u001b[1;33m.\u001b[0m\u001b[0mreturn_generator\u001b[0m \u001b[1;32melse\u001b[0m \u001b[0mlist\u001b[0m\u001b[1;33m(\u001b[0m\u001b[0moutput\u001b[0m\u001b[1;33m)\u001b[0m\u001b[1;33m\u001b[0m\u001b[0m\n\u001b[0m\u001b[0;32m   1953\u001b[0m \u001b[1;33m\u001b[0m\u001b[0m\n\u001b[0;32m   1954\u001b[0m     \u001b[1;32mdef\u001b[0m \u001b[0m__repr__\u001b[0m\u001b[1;33m(\u001b[0m\u001b[0mself\u001b[0m\u001b[1;33m)\u001b[0m\u001b[1;33m:\u001b[0m\u001b[1;33m\u001b[0m\u001b[0m\n",
      "\u001b[1;32me:\\Internship_Projects\\Thyroid_Disease_Detection_ML\\myvenv\\lib\\site-packages\\joblib\\parallel.py\u001b[0m in \u001b[0;36m_get_outputs\u001b[1;34m(self, iterator, pre_dispatch)\u001b[0m\n\u001b[0;32m   1593\u001b[0m \u001b[1;33m\u001b[0m\u001b[0m\n\u001b[0;32m   1594\u001b[0m             \u001b[1;32mwith\u001b[0m \u001b[0mself\u001b[0m\u001b[1;33m.\u001b[0m\u001b[0m_backend\u001b[0m\u001b[1;33m.\u001b[0m\u001b[0mretrieval_context\u001b[0m\u001b[1;33m(\u001b[0m\u001b[1;33m)\u001b[0m\u001b[1;33m:\u001b[0m\u001b[1;33m\u001b[0m\u001b[0m\n\u001b[1;32m-> 1595\u001b[1;33m                 \u001b[1;32myield\u001b[0m \u001b[1;32mfrom\u001b[0m \u001b[0mself\u001b[0m\u001b[1;33m.\u001b[0m\u001b[0m_retrieve\u001b[0m\u001b[1;33m(\u001b[0m\u001b[1;33m)\u001b[0m\u001b[1;33m\u001b[0m\u001b[0m\n\u001b[0m\u001b[0;32m   1596\u001b[0m \u001b[1;33m\u001b[0m\u001b[0m\n\u001b[0;32m   1597\u001b[0m         \u001b[1;32mexcept\u001b[0m \u001b[0mGeneratorExit\u001b[0m\u001b[1;33m:\u001b[0m\u001b[1;33m\u001b[0m\u001b[0m\n",
      "\u001b[1;32me:\\Internship_Projects\\Thyroid_Disease_Detection_ML\\myvenv\\lib\\site-packages\\joblib\\parallel.py\u001b[0m in \u001b[0;36m_retrieve\u001b[1;34m(self)\u001b[0m\n\u001b[0;32m   1697\u001b[0m             \u001b[1;31m# worker traceback.\u001b[0m\u001b[1;33m\u001b[0m\u001b[1;33m\u001b[0m\u001b[0m\n\u001b[0;32m   1698\u001b[0m             \u001b[1;32mif\u001b[0m \u001b[0mself\u001b[0m\u001b[1;33m.\u001b[0m\u001b[0m_aborting\u001b[0m\u001b[1;33m:\u001b[0m\u001b[1;33m\u001b[0m\u001b[0m\n\u001b[1;32m-> 1699\u001b[1;33m                 \u001b[0mself\u001b[0m\u001b[1;33m.\u001b[0m\u001b[0m_raise_error_fast\u001b[0m\u001b[1;33m(\u001b[0m\u001b[1;33m)\u001b[0m\u001b[1;33m\u001b[0m\u001b[0m\n\u001b[0m\u001b[0;32m   1700\u001b[0m                 \u001b[1;32mbreak\u001b[0m\u001b[1;33m\u001b[0m\u001b[0m\n\u001b[0;32m   1701\u001b[0m \u001b[1;33m\u001b[0m\u001b[0m\n",
      "\u001b[1;32me:\\Internship_Projects\\Thyroid_Disease_Detection_ML\\myvenv\\lib\\site-packages\\joblib\\parallel.py\u001b[0m in \u001b[0;36m_raise_error_fast\u001b[1;34m(self)\u001b[0m\n\u001b[0;32m   1732\u001b[0m         \u001b[1;31m# called directly or if the generator is gc'ed.\u001b[0m\u001b[1;33m\u001b[0m\u001b[1;33m\u001b[0m\u001b[0m\n\u001b[0;32m   1733\u001b[0m         \u001b[1;32mif\u001b[0m \u001b[0merror_job\u001b[0m \u001b[1;32mis\u001b[0m \u001b[1;32mnot\u001b[0m \u001b[1;32mNone\u001b[0m\u001b[1;33m:\u001b[0m\u001b[1;33m\u001b[0m\u001b[0m\n\u001b[1;32m-> 1734\u001b[1;33m             \u001b[0merror_job\u001b[0m\u001b[1;33m.\u001b[0m\u001b[0mget_result\u001b[0m\u001b[1;33m(\u001b[0m\u001b[0mself\u001b[0m\u001b[1;33m.\u001b[0m\u001b[0mtimeout\u001b[0m\u001b[1;33m)\u001b[0m\u001b[1;33m\u001b[0m\u001b[0m\n\u001b[0m\u001b[0;32m   1735\u001b[0m \u001b[1;33m\u001b[0m\u001b[0m\n\u001b[0;32m   1736\u001b[0m     \u001b[1;32mdef\u001b[0m \u001b[0m_warn_exit_early\u001b[0m\u001b[1;33m(\u001b[0m\u001b[0mself\u001b[0m\u001b[1;33m)\u001b[0m\u001b[1;33m:\u001b[0m\u001b[1;33m\u001b[0m\u001b[0m\n",
      "\u001b[1;32me:\\Internship_Projects\\Thyroid_Disease_Detection_ML\\myvenv\\lib\\site-packages\\joblib\\parallel.py\u001b[0m in \u001b[0;36mget_result\u001b[1;34m(self, timeout)\u001b[0m\n\u001b[0;32m    734\u001b[0m             \u001b[1;31m# callback thread, and is stored internally. It's just waiting to\u001b[0m\u001b[1;33m\u001b[0m\u001b[1;33m\u001b[0m\u001b[0m\n\u001b[0;32m    735\u001b[0m             \u001b[1;31m# be returned.\u001b[0m\u001b[1;33m\u001b[0m\u001b[1;33m\u001b[0m\u001b[0m\n\u001b[1;32m--> 736\u001b[1;33m             \u001b[1;32mreturn\u001b[0m \u001b[0mself\u001b[0m\u001b[1;33m.\u001b[0m\u001b[0m_return_or_raise\u001b[0m\u001b[1;33m(\u001b[0m\u001b[1;33m)\u001b[0m\u001b[1;33m\u001b[0m\u001b[0m\n\u001b[0m\u001b[0;32m    737\u001b[0m \u001b[1;33m\u001b[0m\u001b[0m\n\u001b[0;32m    738\u001b[0m         \u001b[1;31m# For other backends, the main thread needs to run the retrieval step.\u001b[0m\u001b[1;33m\u001b[0m\u001b[1;33m\u001b[0m\u001b[0m\n",
      "\u001b[1;32me:\\Internship_Projects\\Thyroid_Disease_Detection_ML\\myvenv\\lib\\site-packages\\joblib\\parallel.py\u001b[0m in \u001b[0;36m_return_or_raise\u001b[1;34m(self)\u001b[0m\n\u001b[0;32m    752\u001b[0m         \u001b[1;32mtry\u001b[0m\u001b[1;33m:\u001b[0m\u001b[1;33m\u001b[0m\u001b[0m\n\u001b[0;32m    753\u001b[0m             \u001b[1;32mif\u001b[0m \u001b[0mself\u001b[0m\u001b[1;33m.\u001b[0m\u001b[0mstatus\u001b[0m \u001b[1;33m==\u001b[0m \u001b[0mTASK_ERROR\u001b[0m\u001b[1;33m:\u001b[0m\u001b[1;33m\u001b[0m\u001b[0m\n\u001b[1;32m--> 754\u001b[1;33m                 \u001b[1;32mraise\u001b[0m \u001b[0mself\u001b[0m\u001b[1;33m.\u001b[0m\u001b[0m_result\u001b[0m\u001b[1;33m\u001b[0m\u001b[0m\n\u001b[0m\u001b[0;32m    755\u001b[0m             \u001b[1;32mreturn\u001b[0m \u001b[0mself\u001b[0m\u001b[1;33m.\u001b[0m\u001b[0m_result\u001b[0m\u001b[1;33m\u001b[0m\u001b[0m\n\u001b[0;32m    756\u001b[0m         \u001b[1;32mfinally\u001b[0m\u001b[1;33m:\u001b[0m\u001b[1;33m\u001b[0m\u001b[0m\n",
      "\u001b[1;31mTerminatedWorkerError\u001b[0m: A worker process managed by the executor was unexpectedly terminated. This could be caused by a segmentation fault while calling the function or by an excessive memory usage causing the Operating System to kill the worker.\n"
     ]
    }
   ],
   "source": [
    "from sklearn.ensemble import RandomForestClassifier\n",
    "from sklearn.model_selection import GridSearchCV\n",
    "from sklearn.datasets import make_classification\n",
    "\n",
    "print(\"Unique labels in y_train:\", np.unique(y))\n",
    "\n",
    "# Create a small test dataset\n",
    "X, y = make_classification(n_samples=500, n_features=10, random_state=42)\n",
    "\n",
    "# Define simple param grid\n",
    "param_grid = {\"n_estimators\": [10, 50], \"max_depth\": [3, None]}\n",
    "\n",
    "# Run GridSearchCV\n",
    "clf = GridSearchCV(RandomForestClassifier(), param_grid, cv=3, scoring=\"accuracy\", verbose=3, n_jobs=-1)\n",
    "clf.fit(X, y)\n",
    "\n",
    "print(\"Best Parameters:\", clf.best_params_)\n"
   ]
  },
  {
   "cell_type": "code",
   "execution_count": 1,
   "metadata": {},
   "outputs": [],
   "source": [
    "import pandas as pd\n",
    "import numpy as np\n",
    "import matplotlib.pyplot as plt\n",
    "import seaborn as sns\n",
    "from sklearn.model_selection import StratifiedShuffleSplit\n",
    "from sklearn.impute import SimpleImputer\n",
    "from sklearn.preprocessing import  OneHotEncoder\n",
    "from sklearn.compose import ColumnTransformer\n",
    "\n",
    "from sklearn.preprocessing import StandardScaler, MinMaxScaler, RobustScaler\n",
    "from imblearn.over_sampling import RandomOverSampler\n",
    "from imblearn.over_sampling import SMOTE\n",
    "\n",
    "from sklearn.metrics import classification_report, confusion_matrix\n",
    "\n",
    "\n",
    "\n",
    "\n"
   ]
  },
  {
   "cell_type": "code",
   "execution_count": 2,
   "metadata": {},
   "outputs": [
    {
     "name": "stdout",
     "output_type": "stream",
     "text": [
      "Train set class distribution:\n",
      " negative           0.952679\n",
      "hyperthyroidism    0.044196\n",
      "hypothyroidism     0.003125\n",
      "Name: Class, dtype: float64\n",
      "\n",
      "Test set class distribution:\n",
      " negative           0.951786\n",
      "hyperthyroidism    0.044643\n",
      "hypothyroidism     0.003571\n",
      "Name: Class, dtype: float64\n"
     ]
    }
   ],
   "source": [
    "df1=pd.read_csv(\"processed_data.csv\")\n",
    "\n",
    "target_column= \"Class\"\n",
    "split = StratifiedShuffleSplit(n_splits=1, test_size=0.2, random_state=42)\n",
    "for train_index, test_index in split.split(df1, df1[target_column]):\n",
    "    train_set = df1.loc[train_index]\n",
    "    test_set = df1.loc[test_index]\n",
    "\n",
    "print(\"Train set class distribution:\\n\", train_set[target_column].value_counts(normalize=True))\n",
    "print(\"\\nTest set class distribution:\\n\", test_set[target_column].value_counts(normalize=True))\n",
    "\n",
    "train_set.to_csv(\"train_data.csv\", index=False)\n",
    "test_set.to_csv(\"test_data.csv\", index=False)"
   ]
  },
  {
   "cell_type": "code",
   "execution_count": 3,
   "metadata": {},
   "outputs": [],
   "source": [
    "train_set = pd.read_csv(\"train_data.csv\")\n",
    "test_set = pd.read_csv(\"test_data.csv\")\n",
    "target_column = \"Class\""
   ]
  },
  {
   "cell_type": "code",
   "execution_count": 4,
   "metadata": {},
   "outputs": [],
   "source": [
    "X_train = train_set.drop(columns=[target_column])\n",
    "y_train = train_set[target_column]\n",
    "X_test = test_set.drop(columns=[target_column])\n",
    "y_test = test_set[target_column]"
   ]
  },
  {
   "cell_type": "code",
   "execution_count": 6,
   "metadata": {},
   "outputs": [
    {
     "data": {
      "text/plain": [
       "array(['negative', 'hyperthyroidism', 'hypothyroidism'], dtype=object)"
      ]
     },
     "execution_count": 6,
     "metadata": {},
     "output_type": "execute_result"
    }
   ],
   "source": [
    "y_train.unique()"
   ]
  },
  {
   "cell_type": "code",
   "execution_count": null,
   "metadata": {},
   "outputs": [],
   "source": [
    "X_train.isnull().sum()"
   ]
  },
  {
   "cell_type": "code",
   "execution_count": null,
   "metadata": {},
   "outputs": [],
   "source": [
    "num_cols = X_train.select_dtypes(include=[np.number]).columns\n",
    "cat_cols = X_train.select_dtypes(exclude=[np.number]).columns\n",
    "\n",
    "\n",
    "num_transformer = SimpleImputer(strategy=\"median\")\n",
    "cat_transformer = OneHotEncoder(handle_unknown=\"ignore\", sparse=False)\n",
    "\n",
    "\n",
    "# Apply transformations using ColumnTransformer\n",
    "preprocessor = ColumnTransformer([\n",
    "    (\"num\", num_transformer, num_cols),\n",
    "    (\"cat\", cat_transformer, cat_cols)\n",
    "])\n",
    "\n",
    "# Fit and transform training data\n",
    "X_train_transformed = preprocessor.fit_transform(X_train)\n",
    "X_test_transformed = preprocessor.transform(X_test)\n",
    "\n",
    "# Get new column names after encoding\n",
    "encoded_cat_cols = preprocessor.named_transformers_['cat'].get_feature_names_out(cat_cols)\n",
    "all_cols = list(num_cols) + list(encoded_cat_cols)\n",
    "\n",
    "# Convert transformed arrays into DataFrames\n",
    "X_train = pd.DataFrame(X_train_transformed, columns=all_cols, index=X_train.index)\n",
    "X_test = pd.DataFrame(X_test_transformed, columns=all_cols, index=X_test.index)\n",
    "\n",
    "print(\"Preprocessing complete! New shape of X_train:\", X_train.shape)"
   ]
  },
  {
   "cell_type": "code",
   "execution_count": null,
   "metadata": {},
   "outputs": [],
   "source": [
    "X_train.shape"
   ]
  },
  {
   "cell_type": "code",
   "execution_count": null,
   "metadata": {},
   "outputs": [],
   "source": [
    "X_test.shape"
   ]
  },
  {
   "cell_type": "code",
   "execution_count": null,
   "metadata": {},
   "outputs": [],
   "source": [
    "X_train.hist(bins=30)\n",
    "plt.show()"
   ]
  },
  {
   "cell_type": "code",
   "execution_count": null,
   "metadata": {},
   "outputs": [],
   "source": [
    "sns.boxplot(X_test[\"TT4\"])\n",
    "plt.show()"
   ]
  },
  {
   "cell_type": "code",
   "execution_count": null,
   "metadata": {},
   "outputs": [],
   "source": [
    "\n",
    "# Log transform TSH to handle extreme skewness\n",
    "X_train.loc[:, 'TSH'] = np.log1p(X_train['TSH'])\n",
    "X_test.loc[:, 'TSH'] = np.log1p(X_test['TSH'])\n",
    "\n",
    "# Choose scalers based on distribution\n",
    "scalers = {\n",
    "    'age': StandardScaler(),\n",
    "    'TSH': RobustScaler(),   # After log transformation\n",
    "    'TT4': RobustScaler(),\n",
    "    'T4U': MinMaxScaler(),\n",
    "    'FTI': MinMaxScaler(),\n",
    "    'T3': RobustScaler()\n",
    "}\n",
    "\n",
    "# Apply appropriate scaling\n",
    "for col, scaler in scalers.items():\n",
    "    X_train[col] = scaler.fit_transform(X_train[[col]]).flatten()\n",
    "    X_test[col] = scaler.transform(X_test[[col]]).flatten()\n"
   ]
  },
  {
   "cell_type": "code",
   "execution_count": null,
   "metadata": {},
   "outputs": [],
   "source": [
    "#Check class distribution\n",
    "print(y_train.value_counts())"
   ]
  },
  {
   "cell_type": "code",
   "execution_count": null,
   "metadata": {},
   "outputs": [],
   "source": [
    "# Plot class distribution\n",
    "sns.countplot(x=y_train)\n",
    "plt.title(\"Class Distribution in Training Data\")\n",
    "plt.show()"
   ]
  },
  {
   "cell_type": "code",
   "execution_count": null,
   "metadata": {},
   "outputs": [],
   "source": [
    "minority_class = y_train.value_counts().min()\n",
    "majority_class = y_train.value_counts().max()\n",
    "\n",
    "imbalance_ratio = majority_class / minority_class\n",
    "print(f\"Class Imbalance Ratio: {imbalance_ratio:.2f}\")\n"
   ]
  },
  {
   "cell_type": "code",
   "execution_count": null,
   "metadata": {},
   "outputs": [],
   "source": [
    "pip install imbalanced-learn\n"
   ]
  },
  {
   "cell_type": "code",
   "execution_count": null,
   "metadata": {},
   "outputs": [],
   "source": [
    "\n",
    "\n",
    "ros = RandomOverSampler(random_state=42)\n",
    "X_train_resampled, y_train_resampled = ros.fit_resample(X_train, y_train)\n",
    "\n",
    "# Check new class distribution\n",
    "print(y_train_resampled.value_counts())\n",
    "\n",
    "# Plot new class distribution\n",
    "sns.countplot(x=y_train_resampled)\n",
    "plt.title(\"Balanced Class Distribution (After Oversampling)\")\n",
    "plt.show()\n"
   ]
  },
  {
   "cell_type": "code",
   "execution_count": null,
   "metadata": {},
   "outputs": [],
   "source": [
    "X_train_resampled.shape"
   ]
  },
  {
   "cell_type": "code",
   "execution_count": null,
   "metadata": {},
   "outputs": [],
   "source": [
    "X_train_resampled=pd.DataFrame(data=X_train_resampled, columns=X_train.columns)"
   ]
  },
  {
   "cell_type": "code",
   "execution_count": null,
   "metadata": {},
   "outputs": [],
   "source": [
    "X_train_resampled"
   ]
  },
  {
   "cell_type": "code",
   "execution_count": null,
   "metadata": {},
   "outputs": [],
   "source": [
    "X_train_resampled.isnull().sum()"
   ]
  },
  {
   "cell_type": "code",
   "execution_count": null,
   "metadata": {},
   "outputs": [],
   "source": [
    "\n",
    "import seaborn as sns\n",
    "import matplotlib.pyplot as plt\n",
    "\n",
    "# Apply SMOTE\n",
    "smote = SMOTE(random_state=42)\n",
    "X_train_smote, y_train_smote = smote.fit_resample(X_train, y_train)\n",
    "\n",
    "# Check new class distribution\n",
    "print(\"Class distribution after SMOTE:\\n\", y_train_smote.value_counts())\n",
    "\n",
    "# Plot class distribution after SMOTE\n",
    "sns.countplot(x=y_train_smote)\n",
    "plt.title(\"Balanced Class Distribution (After SMOTE)\")\n",
    "plt.show()\n"
   ]
  },
  {
   "cell_type": "markdown",
   "metadata": {},
   "source": [
    " ##SMOTE vs. Random Oversampling\n",
    "\n",
    "✔ Both techniques balance the dataset, but SMOTE is usually better as it generates synthetic data rather than duplicating samples.\n",
    "\n",
    "✔ Random Oversampling might cause overfitting, as the model sees the same minority samples multiple times.\n",
    "\n",
    "✔ SMOTE reduces overfitting risk by creating new synthetic points instead of copying existing ones."
   ]
  },
  {
   "cell_type": "markdown",
   "metadata": {},
   "source": [
    "Let's compare SMOTE vs. Random Oversampling by training a model on both resampled datasets and evaluating their performance."
   ]
  },
  {
   "cell_type": "markdown",
   "metadata": {},
   "source": [
    " Steps to Compare\n",
    "\n",
    "\n",
    "Train a classifier (e.g., Random Forest, Logistic Regression) on:\n",
    "\n",
    "-Random Oversampling data \n",
    "\n",
    "-SMOTE data\n",
    "\n",
    "Evaluate using:\n",
    "\n",
    "-Accuracy\n",
    "\n",
    "-Precision, Recall, F1-score\n",
    "\n",
    "-Confusion Matrix\n",
    "\n",
    "Compare results to see which technique performs better."
   ]
  },
  {
   "cell_type": "code",
   "execution_count": null,
   "metadata": {},
   "outputs": [],
   "source": [
    "\n",
    "\n",
    "# Initialize classifiers\n",
    "model_ros = RandomForestClassifier(random_state=42)\n",
    "model_smote = RandomForestClassifier(random_state=42)\n",
    "\n",
    "# Apply Random Oversampling\n",
    "ros = RandomOverSampler(random_state=42)\n",
    "X_train_ros, y_train_ros = ros.fit_resample(X_train, y_train)\n",
    "\n",
    "# Apply SMOTE\n",
    "smote = SMOTE(random_state=42)\n",
    "X_train_smote, y_train_smote = smote.fit_resample(X_train, y_train)\n",
    "\n",
    "# Train models\n",
    "model_ros.fit(X_train_ros, y_train_ros)\n",
    "model_smote.fit(X_train_smote, y_train_smote)\n",
    "\n",
    "# Predictions\n",
    "y_pred_ros = model_ros.predict(X_test)\n",
    "y_pred_smote = model_smote.predict(X_test)\n",
    "\n",
    "# Evaluate Random Oversampling\n",
    "print(\"=== Random Oversampling Results ===\")\n",
    "print(classification_report(y_test, y_pred_ros))\n",
    "print(\"Confusion Matrix (Random Oversampling):\")\n",
    "sns.heatmap(confusion_matrix(y_test, y_pred_ros), annot=True, fmt=\"d\", cmap=\"Blues\")\n",
    "plt.title(\"Confusion Matrix - Random Oversampling\")\n",
    "plt.show()\n",
    "\n",
    "# Evaluate SMOTE\n",
    "print(\"=== SMOTE Results ===\")\n",
    "print(classification_report(y_test, y_pred_smote))\n",
    "print(\"Confusion Matrix (SMOTE):\")\n",
    "sns.heatmap(confusion_matrix(y_test, y_pred_smote), annot=True, fmt=\"d\", cmap=\"Greens\")\n",
    "plt.title(\"Confusion Matrix - SMOTE\")\n",
    "plt.show()\n"
   ]
  },
  {
   "cell_type": "code",
   "execution_count": null,
   "metadata": {},
   "outputs": [],
   "source": [
    "\n",
    "\n",
    "ros = RandomOverSampler(random_state=42)\n",
    "X_train_resampled, y_train_resampled = ros.fit_resample(X_train, y_train)\n",
    "\n",
    "# Check new class distribution\n",
    "print(y_train_resampled.value_counts())\n",
    "\n",
    "# Plot new class distribution\n",
    "sns.countplot(x=y_train_resampled)\n",
    "plt.title(\"Balanced Class Distribution (After Oversampling)\")\n",
    "plt.show()\n"
   ]
  },
  {
   "cell_type": "markdown",
   "metadata": {},
   "source": [
    "SMOTE improved recall for hyperthyroidism (from 72% to 80%) but at the cost of slightly reduced precision.\n",
    "\n",
    "Hypothyroidism remains a challenge (recall stuck at 50%), meaning the model still struggles with extremely rare cases.\n",
    "\n",
    "Negative class performance is slightly reduced but remains excellent.\n",
    "\n",
    "Overall accuracy remains the same (98%), indicating SMOTE didn't drastically change the overall performance but helped with class balance."
   ]
  },
  {
   "cell_type": "markdown",
   "metadata": {},
   "source": [
    "1️⃣ we will Use SMOTE for Hypothyroidism + Random Oversampling for Hyperthyroidism\n",
    "2️⃣ Experiment with XGBoost, Random Forest, and SVM\n",
    "\n",
    "3️⃣ Evaluate results & fine-tune hyperparameters"
   ]
  },
  {
   "cell_type": "code",
   "execution_count": null,
   "metadata": {},
   "outputs": [],
   "source": [
    "pip install imbalanced-learn xgboost scikit-learn\n"
   ]
  },
  {
   "cell_type": "code",
   "execution_count": null,
   "metadata": {},
   "outputs": [],
   "source": [
    "X_train[\"TSH\"].isnull().sum()"
   ]
  },
  {
   "cell_type": "code",
   "execution_count": null,
   "metadata": {},
   "outputs": [],
   "source": [
    "# Identify numerical and categorical columns\n",
    "num_cols = X_train.select_dtypes(include=[np.number]).columns\n",
    "cat_cols = X_train.select_dtypes(exclude=[np.number]).columns\n",
    "\n",
    "# Handle missing values\n",
    "num_transformer = SimpleImputer(strategy=\"median\")\n",
    "cat_transformer =SimpleImputer(Strategy=\"most_frequent\")\n",
    "cat_transformer = OneHotEncoder(handle_unknown=\"ignore\", sparse=False)\n",
    "\n",
    "X_train[num_cols] = num_transformer.fit_transform(X_train[num_cols])\n",
    "X_test[num_cols] = num_transformer.transform(X_test[num_cols])"
   ]
  },
  {
   "cell_type": "code",
   "execution_count": null,
   "metadata": {},
   "outputs": [],
   "source": [
    "X_train['TSH'].fillna(X_train['TSH'].median(), inplace=True)\n",
    "X_test['TSH'].fillna(X_train['TSH'].median(), inplace=True)\n"
   ]
  },
  {
   "cell_type": "code",
   "execution_count": null,
   "metadata": {},
   "outputs": [],
   "source": [
    "X_train[\"TSH\"].isnull().sum()"
   ]
  },
  {
   "cell_type": "code",
   "execution_count": null,
   "metadata": {},
   "outputs": [],
   "source": [
    "# Log transform TSH to handle extreme skewness\n",
    "X_train.loc[:, 'TSH'] = np.log1p(X_train['TSH'])\n",
    "X_test.loc[:, 'TSH'] = np.log1p(X_test['TSH'])"
   ]
  },
  {
   "cell_type": "code",
   "execution_count": null,
   "metadata": {},
   "outputs": [],
   "source": [
    "X_train.isnull().sum()"
   ]
  },
  {
   "cell_type": "code",
   "execution_count": null,
   "metadata": {},
   "outputs": [],
   "source": [
    "\n",
    "\n",
    "# Choose scalers based on distribution\n",
    "scalers = {\n",
    "    'age': StandardScaler(),\n",
    "    'TSH': RobustScaler(),   # After log transformation\n",
    "    'TT4': RobustScaler(),\n",
    "    'T4U': MinMaxScaler(),\n",
    "    'FTI': MinMaxScaler(),\n",
    "    'T3': RobustScaler()\n",
    "}\n",
    "\n",
    "# Apply appropriate scaling\n",
    "for col, scaler in scalers.items():\n",
    "    X_train[col] = scaler.fit_transform(X_train[[col]]).flatten()\n",
    "    X_test[col] = scaler.transform(X_test[[col]]).flatten()\n",
    "\n",
    "# Final check before resampling\n",
    "assert not X_train.isnull().values.any(), \"X_train still contains NaN values!\"\n",
    "assert np.isfinite(X_train).all().all(), \"X_train contains infinite values!\"\n",
    "\n",
    "# Reset indices to avoid misalignment issues\n",
    "#y_train = y_train.reset_index(drop=True)\n",
    "#X_train = X_train.reset_index(drop=True)\n",
    "\n"
   ]
  },
  {
   "cell_type": "code",
   "execution_count": null,
   "metadata": {},
   "outputs": [],
   "source": [
    "X_train[\"TSH\"].isnull().sum()"
   ]
  },
  {
   "cell_type": "code",
   "execution_count": null,
   "metadata": {},
   "outputs": [],
   "source": [
    "# Apply SMOTE for hypothyroidism and Random Oversampling for hyperthyroidism\n",
    "smote = SMOTE(sampling_strategy={\"hypothyroidism\": \"auto\"}, random_state=42)\n",
    "ros = RandomOverSampler(sampling_strategy={\"hyperthyroidism\": \"auto\"}, random_state=42)\n",
    "\n",
    "X_resampled, y_resampled = smote.fit_resample(X_train, y_train)\n",
    "X_resampled, y_resampled = ros.fit_resample(X_resampled, y_resampled)\n",
    "\n",
    "# Convert back to DataFrame\n",
    "X_train_balanced = pd.DataFrame(X_resampled, columns=X_train.columns)\n",
    "y_train_balanced = pd.Series(y_resampled)\n"
   ]
  },
  {
   "cell_type": "code",
   "execution_count": null,
   "metadata": {},
   "outputs": [],
   "source": [
    "num_cols = X_train.select_dtypes(include=[np.number]).columns\n",
    "cat_cols = X_train.select_dtypes(exclude=[np.number]).columns\n",
    "\n",
    "\n",
    "num_transformer = SimpleImputer(strategy=\"median\")\n",
    "cat_transformer = OneHotEncoder(handle_unknown=\"ignore\", sparse=False)\n",
    "\n",
    "\n",
    "# Apply transformations using ColumnTransformer\n",
    "preprocessor = ColumnTransformer([\n",
    "    (\"num\", num_transformer, num_cols),\n",
    "    (\"cat\", cat_transformer, cat_cols)\n",
    "])\n",
    "\n",
    "# Fit and transform training data\n",
    "X_train_transformed = preprocessor.fit_transform(X_train)\n",
    "X_test_transformed = preprocessor.transform(X_test)\n",
    "\n",
    "# Get new column names after encoding\n",
    "encoded_cat_cols = preprocessor.named_transformers_['cat'].get_feature_names_out(cat_cols)\n",
    "all_cols = list(num_cols) + list(encoded_cat_cols)\n",
    "\n",
    "# Convert transformed arrays into DataFrames\n",
    "X_train = pd.DataFrame(X_train_transformed, columns=all_cols, index=X_train.index)\n",
    "X_test = pd.DataFrame(X_test_transformed, columns=all_cols, index=X_test.index)\n",
    "\n",
    "print(\"Preprocessing complete! New shape of X_train:\", X_train.shape)"
   ]
  },
  {
   "cell_type": "code",
   "execution_count": null,
   "metadata": {},
   "outputs": [],
   "source": [
    "X_train.isnull().sum()"
   ]
  },
  {
   "cell_type": "code",
   "execution_count": null,
   "metadata": {},
   "outputs": [],
   "source": [
    "\n",
    "\n",
    "# Log transform TSH to handle extreme skewness\n",
    "X_train.loc[:, 'TSH'] = np.log1p(X_train['TSH'])\n",
    "X_test.loc[:, 'TSH'] = np.log1p(X_test['TSH'])\n",
    "\n",
    "# Choose scalers based on distribution\n",
    "scalers = {\n",
    "    'age': StandardScaler(),\n",
    "    'TSH': RobustScaler(),   # After log transformation\n",
    "    'TT4': RobustScaler(),\n",
    "    'T4U': MinMaxScaler(),\n",
    "    'FTI': MinMaxScaler(),\n",
    "    'T3': RobustScaler()\n",
    "}\n",
    "\n",
    "# Apply appropriate scaling\n",
    "for col, scaler in scalers.items():\n",
    "    X_train[col] = scaler.fit_transform(X_train[[col]]).flatten()\n",
    "    X_test[col] = scaler.transform(X_test[[col]]).flatten()\n",
    "\n",
    "# Combine features and target for resampling\n",
    "y_train = y_train.reset_index(drop=True)\n",
    "X_train = X_train.reset_index(drop=True)\n",
    "\n",
    "# Apply SMOTE for hypothyroidism and Random Oversampling for hyperthyroidism\n",
    "smote = SMOTE(sampling_strategy={\"hypothyroidism\": \"auto\"}, random_state=42)\n",
    "ros = RandomOverSampler(sampling_strategy={\"hyperthyroidism\": \"auto\"}, random_state=42)\n",
    "\n",
    "X_resampled, y_resampled = smote.fit_resample(X_train, y_train)\n",
    "X_resampled, y_resampled = ros.fit_resample(X_resampled, y_resampled)\n",
    "\n",
    "# Convert back to DataFrame\n",
    "X_train_balanced = pd.DataFrame(X_resampled, columns=X_train.columns)\n",
    "y_train_balanced = pd.Series(y_resampled)\n"
   ]
  }
 ],
 "metadata": {
  "kernelspec": {
   "display_name": "Python 3",
   "language": "python",
   "name": "python3"
  },
  "language_info": {
   "codemirror_mode": {
    "name": "ipython",
    "version": 3
   },
   "file_extension": ".py",
   "mimetype": "text/x-python",
   "name": "python",
   "nbconvert_exporter": "python",
   "pygments_lexer": "ipython3",
   "version": "3.7.0"
  }
 },
 "nbformat": 4,
 "nbformat_minor": 2
}
