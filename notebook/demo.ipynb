{
 "cells": [
  {
   "cell_type": "code",
   "execution_count": 14,
   "metadata": {},
   "outputs": [
    {
     "ename": "ModuleNotFoundError",
     "evalue": "No module named 'thyroid_detection.component'",
     "output_type": "error",
     "traceback": [
      "\u001b[1;31m---------------------------------------------------------------------------\u001b[0m",
      "\u001b[1;31mModuleNotFoundError\u001b[0m                       Traceback (most recent call last)",
      "\u001b[1;32m~\\AppData\\Local\\Temp\\ipykernel_1880\\1105184829.py\u001b[0m in \u001b[0;36m<module>\u001b[1;34m\u001b[0m\n\u001b[0;32m      5\u001b[0m \u001b[0mmodel_path\u001b[0m \u001b[1;33m=\u001b[0m \u001b[1;34mr\"E:\\Internship_Projects\\Thyroid_Disease_Detection_ML\\thyroid_detection\\artifact\\model_trainer\\2025-03-27-21-06-18\\trained_model\\model.pkl\"\u001b[0m\u001b[1;33m\u001b[0m\u001b[0m\n\u001b[0;32m      6\u001b[0m \u001b[1;32mwith\u001b[0m \u001b[0mopen\u001b[0m\u001b[1;33m(\u001b[0m\u001b[0mmodel_path\u001b[0m\u001b[1;33m,\u001b[0m \u001b[1;34m'rb'\u001b[0m\u001b[1;33m)\u001b[0m \u001b[1;32mas\u001b[0m \u001b[0mfile\u001b[0m\u001b[1;33m:\u001b[0m\u001b[1;33m\u001b[0m\u001b[0m\n\u001b[1;32m----> 7\u001b[1;33m     \u001b[0mmodel\u001b[0m \u001b[1;33m=\u001b[0m \u001b[0mpickle\u001b[0m\u001b[1;33m.\u001b[0m\u001b[0mload\u001b[0m\u001b[1;33m(\u001b[0m\u001b[0mfile\u001b[0m\u001b[1;33m)\u001b[0m\u001b[1;33m\u001b[0m\u001b[0m\n\u001b[0m\u001b[0;32m      8\u001b[0m \u001b[1;33m\u001b[0m\u001b[0m\n\u001b[0;32m      9\u001b[0m \u001b[0mprint\u001b[0m\u001b[1;33m(\u001b[0m\u001b[0mmodel\u001b[0m\u001b[1;33m)\u001b[0m\u001b[1;33m\u001b[0m\u001b[0m\n",
      "\u001b[1;31mModuleNotFoundError\u001b[0m: No module named 'thyroid_detection.component'"
     ]
    }
   ],
   "source": [
    "import pickle\n",
    "import sys\n",
    "sys.path.append(r\"E:\\Internship_Projects\\Thyroid_Disease_Detection_ML\")\n",
    "\n",
    "model_path = r\"E:\\Internship_Projects\\Thyroid_Disease_Detection_ML\\thyroid_detection\\artifact\\model_trainer\\2025-03-27-21-06-18\\trained_model\\model.pkl\"\n",
    "with open(model_path, 'rb') as file:\n",
    "    model = pickle.load(file)\n",
    "\n",
    "print(model)"
   ]
  },
  {
   "cell_type": "code",
   "execution_count": 2,
   "metadata": {},
   "outputs": [],
   "source": [
    "import numpy as np\n",
    "data = np.load(r\"E:\\Internship_Projects\\Thyroid_Disease_Detection_ML\\thyroid_detection\\artifact\\data_transformation\\2025-03-28-13-39-21\\transformed_data\\train\\train.npz\", allow_pickle=True)\n"
   ]
  },
  {
   "cell_type": "code",
   "execution_count": 5,
   "metadata": {},
   "outputs": [
    {
     "name": "stdout",
     "output_type": "stream",
     "text": [
      "<class 'numpy.ndarray'>\n",
      "(6402, 37)\n",
      "float64\n",
      "[[ 0.4425525   1.53380009 -0.16894122 ...  1.          0.\n",
      "   2.        ]\n",
      " [ 0.          0.          0.         ...  1.          0.\n",
      "   2.        ]\n",
      " [-1.23110288  0.05371022  0.16340115 ...  1.          0.\n",
      "   2.        ]\n",
      " ...\n",
      " [-0.21967317 -0.13993177 -2.05126264 ...  1.          0.\n",
      "   1.        ]\n",
      " [ 0.60536017  2.14455172 -3.74863647 ...  1.          0.\n",
      "   1.        ]\n",
      " [ 0.07707869 -0.8109317  -3.03353944 ...  1.          0.\n",
      "   1.        ]]\n"
     ]
    }
   ],
   "source": [
    "print(type(data))\n",
    "print(data.shape)  # Check dimensions\n",
    "print(data.dtype)  # Check data type\n",
    "print(data)        # Print a small sample"
   ]
  },
  {
   "cell_type": "code",
   "execution_count": 3,
   "metadata": {},
   "outputs": [],
   "source": [
    "import numpy as np\n",
    "data = np.load(r\"E:\\Internship_Projects\\Thyroid_Disease_Detection_ML\\thyroid_detection\\artifact\\data_transformation\\2025-03-27-21-06-18\\transformed_data\\test\\test.npz\", allow_pickle=True)"
   ]
  },
  {
   "cell_type": "code",
   "execution_count": 6,
   "metadata": {},
   "outputs": [
    {
     "ename": "AttributeError",
     "evalue": "'numpy.ndarray' object has no attribute 'files'",
     "output_type": "error",
     "traceback": [
      "\u001b[1;31m---------------------------------------------------------------------------\u001b[0m",
      "\u001b[1;31mAttributeError\u001b[0m                            Traceback (most recent call last)",
      "\u001b[1;32m~\\AppData\\Local\\Temp\\ipykernel_1880\\1350347690.py\u001b[0m in \u001b[0;36m<module>\u001b[1;34m\u001b[0m\n\u001b[1;32m----> 1\u001b[1;33m \u001b[0mprint\u001b[0m\u001b[1;33m(\u001b[0m\u001b[0mdata\u001b[0m\u001b[1;33m.\u001b[0m\u001b[0mfiles\u001b[0m\u001b[1;33m)\u001b[0m\u001b[1;33m\u001b[0m\u001b[0m\n\u001b[0m",
      "\u001b[1;31mAttributeError\u001b[0m: 'numpy.ndarray' object has no attribute 'files'"
     ]
    }
   ],
   "source": [
    "print(data.files)\n"
   ]
  },
  {
   "cell_type": "code",
   "execution_count": 7,
   "metadata": {},
   "outputs": [
    {
     "name": "stdout",
     "output_type": "stream",
     "text": [
      "(560, 37)\n",
      "float64\n",
      "[[ 0.11535563  0.53347765  0.         ...  1.          0.\n",
      "   2.        ]\n",
      " [-0.8393595  -0.85827584  0.76817733 ...  1.          0.\n",
      "   2.        ]\n",
      " [-0.99596775 -0.61839213  0.76817733 ...  1.          0.\n",
      "   2.        ]\n",
      " ...\n",
      " [-0.88992173 -0.23988371  0.32161408 ...  1.          0.\n",
      "   2.        ]\n",
      " [ 0.05868991 -0.11448242 -0.71311281 ...  1.          0.\n",
      "   2.        ]\n",
      " [ 0.11535563  0.         -0.71311281 ...  1.          0.\n",
      "   2.        ]]\n"
     ]
    }
   ],
   "source": [
    "print(data.shape)  # Check dimensions\n",
    "print(data.dtype)  # Check data type\n",
    "print(data)        # Print a small sample\n",
    "\n"
   ]
  },
  {
   "cell_type": "code",
   "execution_count": null,
   "metadata": {},
   "outputs": [],
   "source": []
  },
  {
   "cell_type": "code",
   "execution_count": 5,
   "metadata": {},
   "outputs": [
    {
     "name": "stdout",
     "output_type": "stream",
     "text": [
      "❌ Error loading model.pkl: No module named 'thyroid_detection.component'\n"
     ]
    }
   ],
   "source": [
    "import dill\n",
    "file_path = \"E:\\\\Internship_Projects\\\\Thyroid_Disease_Detection_ML\\\\thyroid_detection\\\\artifact\\\\model_trainer\\\\2025-03-27-18-47-29\\\\trained_model\\\\model.pkl\"\n",
    "\n",
    "try:\n",
    "    with open(file_path, \"rb\") as f:\n",
    "        model = dill.load(f)\n",
    "    print(\"✅ Successfully loaded model.pkl\")\n",
    "except Exception as e:\n",
    "    print(f\"❌ Error loading model.pkl: {e}\")"
   ]
  },
  {
   "cell_type": "code",
   "execution_count": null,
   "metadata": {},
   "outputs": [],
   "source": []
  }
 ],
 "metadata": {
  "kernelspec": {
   "display_name": "Python 3",
   "language": "python",
   "name": "python3"
  },
  "language_info": {
   "codemirror_mode": {
    "name": "ipython",
    "version": 3
   },
   "file_extension": ".py",
   "mimetype": "text/x-python",
   "name": "python",
   "nbconvert_exporter": "python",
   "pygments_lexer": "ipython3",
   "version": "3.7.0"
  }
 },
 "nbformat": 4,
 "nbformat_minor": 2
}
