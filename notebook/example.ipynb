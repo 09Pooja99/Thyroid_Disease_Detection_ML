{
 "cells": [
  {
   "cell_type": "code",
   "execution_count": 2,
   "metadata": {},
   "outputs": [
    {
     "name": "stdout",
     "output_type": "stream",
     "text": [
      "Requirement already satisfied: urllib3==1.26.18 in e:\\internship_projects\\thyroid_disease_detection_ml\\myvenv\\lib\\site-packages (1.26.18)\n",
      "Note: you may need to restart the kernel to use updated packages.\n"
     ]
    }
   ],
   "source": [
    "pip install urllib3==1.26.18\n"
   ]
  },
  {
   "cell_type": "code",
   "execution_count": 1,
   "metadata": {},
   "outputs": [],
   "source": [
    "import pandas as pd\n",
    "import os\n",
    "import zipfile\n",
    "\n",
    "import requests"
   ]
  },
  {
   "cell_type": "code",
   "execution_count": null,
   "metadata": {},
   "outputs": [],
   "source": [
    "\n",
    "\n",
    "# URL of the dataset\n",
    "url = \"https://archive.ics.uci.edu/static/public/102/thyroid+disease.zip\"\n",
    "\n",
    "# Download the ZIP file\n",
    "response = requests.get(url)\n",
    "zip_file_path = \"thyroid_disease.zip\"\n",
    "\n",
    "# Save the file locally\n",
    "with open(zip_file_path, \"wb\") as file:\n",
    "    file.write(response.content)\n",
    "\n",
    "print(\"✅ ZIP file downloaded successfully!\")\n"
   ]
  },
  {
   "cell_type": "code",
   "execution_count": null,
   "metadata": {},
   "outputs": [],
   "source": [
    "\n",
    "\n",
    "# Extract all files to a directory\n",
    "extract_dir = \"thyroid_data\"\n",
    "with zipfile.ZipFile(zip_file_path, \"r\") as zip_ref:\n",
    "    zip_ref.extractall(extract_dir)\n",
    "\n",
    "# List all extracted files\n",
    "extracted_files = os.listdir(extract_dir)\n",
    "print(\"Extracted Files:\", extracted_files)\n"
   ]
  },
  {
   "cell_type": "code",
   "execution_count": null,
   "metadata": {},
   "outputs": [],
   "source": [
    "# Define file path\n",
    "names_file = os.path.join(extract_dir, \"allbp.names\")\n",
    "\n",
    "# Read the file and print the first 20 lines\n",
    "with open(names_file, \"r\") as file:\n",
    "    for _ in range(50):\n",
    "        print(file.readline().strip())\n",
    "\n"
   ]
  },
  {
   "cell_type": "code",
   "execution_count": null,
   "metadata": {},
   "outputs": [],
   "source": [
    "\n",
    "\n",
    "# Define file path\n",
    "data_file = os.path.join(extract_dir, \"allbp.data\")\n",
    "\n",
    "# Load dataset\n",
    "df = pd.read_csv(data_file, sep=\",\", header=None, na_values=\"?\")\n",
    "\n",
    "# Show first 5 rows\n",
    "print(df.shape)\n"
   ]
  },
  {
   "cell_type": "code",
   "execution_count": null,
   "metadata": {},
   "outputs": [],
   "source": [
    "df.columns"
   ]
  },
  {
   "cell_type": "code",
   "execution_count": null,
   "metadata": {},
   "outputs": [],
   "source": [
    "columns=[]"
   ]
  },
  {
   "cell_type": "code",
   "execution_count": null,
   "metadata": {},
   "outputs": [],
   "source": [
    "\n",
    "# Define file path\n",
    "data_file = os.path.join(extract_dir, \"allhypo.data\")\n",
    "\n",
    "# Load dataset\n",
    "df = pd.read_csv(data_file, sep=\",\", header=None, na_values=\"?\")\n",
    "\n",
    "# Show first 5 rows\n",
    "#print(df.head())\n",
    "print(df.shape)"
   ]
  },
  {
   "cell_type": "code",
   "execution_count": null,
   "metadata": {},
   "outputs": [],
   "source": [
    "# Define file path\n",
    "names_file = os.path.join(extract_dir, \"hypothyroid.names\")\n",
    "\n",
    "# Read the file and print the first 20 lines\n",
    "with open(names_file, \"r\") as file:\n",
    "    for _ in range(50):\n",
    "        print(file.readline().strip())"
   ]
  },
  {
   "cell_type": "code",
   "execution_count": null,
   "metadata": {},
   "outputs": [],
   "source": [
    "\n",
    "# Define file path\n",
    "data_file = os.path.join(extract_dir, \"allhyper.data\")\n",
    "\n",
    "# Load dataset\n",
    "df = pd.read_csv(data_file, sep=\",\", header=None, na_values=\"?\")\n",
    "\n",
    "# Show first 5 rows\n",
    "#print(df.head())\n",
    "print(df.shape)"
   ]
  },
  {
   "cell_type": "code",
   "execution_count": null,
   "metadata": {},
   "outputs": [],
   "source": [
    "df.columns"
   ]
  },
  {
   "cell_type": "code",
   "execution_count": null,
   "metadata": {},
   "outputs": [],
   "source": [
    "columns = [\n",
    "    'age',\n",
    "    'sex',\n",
    "    'on thyroxine',\n",
    "    'query on thyroxine',\n",
    "    'on antithyroid medication',\n",
    "    'sick',\n",
    "    'pregnant',\n",
    "    'thyroid surgery',\n",
    "    'I131 treatment',\n",
    "    'query hypothyroid',\n",
    "    'query hyperthyroid',\n",
    "    'lithium',\n",
    "    'goitre',\n",
    "    'tumor',\n",
    "    'hypopituitary',\n",
    "    'psych',  \n",
    "    'TSH measured',\n",
    "    'TSH',\n",
    "    'T3 measured',\n",
    "    'T3',\n",
    "    'TT4 measured',\n",
    "    'TT4',\n",
    "    'T4U measured',\n",
    "    'T4U',\n",
    "    'FTI measured',\n",
    "    'FTI',\n",
    "    'TBG measured',\n",
    "    'TBG',\n",
    "    'referral source',\n",
    "    'Class'  \n",
    "]"
   ]
  },
  {
   "cell_type": "code",
   "execution_count": null,
   "metadata": {},
   "outputs": [],
   "source": [
    "# Define file path\n",
    "data_file = os.path.join(extract_dir, \"allbp.data\")\n",
    "\n",
    "# Load dataset\n",
    "df = pd.read_csv(data_file, sep=\",\", header=None, na_values=\"?\")\n",
    "\n",
    "\n",
    "# Show first 5 rows\n",
    "#print(df.head())\n",
    "print(df.shape)"
   ]
  },
  {
   "cell_type": "code",
   "execution_count": null,
   "metadata": {},
   "outputs": [],
   "source": [
    "df"
   ]
  },
  {
   "cell_type": "code",
   "execution_count": null,
   "metadata": {},
   "outputs": [],
   "source": [
    "df.columns=columns"
   ]
  },
  {
   "cell_type": "code",
   "execution_count": null,
   "metadata": {},
   "outputs": [],
   "source": [
    "df"
   ]
  },
  {
   "cell_type": "code",
   "execution_count": null,
   "metadata": {},
   "outputs": [],
   "source": [
    "df.to_csv(\"input_data.csv\")"
   ]
  },
  {
   "cell_type": "code",
   "execution_count": null,
   "metadata": {},
   "outputs": [],
   "source": []
  },
  {
   "cell_type": "code",
   "execution_count": null,
   "metadata": {},
   "outputs": [],
   "source": []
  }
 ],
 "metadata": {
  "kernelspec": {
   "display_name": "Python 3",
   "language": "python",
   "name": "python3"
  },
  "language_info": {
   "codemirror_mode": {
    "name": "ipython",
    "version": 3
   },
   "file_extension": ".py",
   "mimetype": "text/x-python",
   "name": "python",
   "nbconvert_exporter": "python",
   "pygments_lexer": "ipython3",
   "version": "3.7.0"
  }
 },
 "nbformat": 4,
 "nbformat_minor": 2
}
