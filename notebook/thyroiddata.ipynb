{
 "cells": [
  {
   "cell_type": "code",
   "execution_count": 8,
   "metadata": {},
   "outputs": [
    {
     "name": "stdout",
     "output_type": "stream",
     "text": [
      "Requirement already satisfied: cassandra-driver in e:\\internship_projects\\thyroid_disease_detection_ml\\myvenv\\lib\\site-packages (3.29.2)\n",
      "Requirement already satisfied: geomet<0.3,>=0.1 in e:\\internship_projects\\thyroid_disease_detection_ml\\myvenv\\lib\\site-packages (from cassandra-driver) (0.2.1.post1)\n",
      "Requirement already satisfied: six in e:\\internship_projects\\thyroid_disease_detection_ml\\myvenv\\lib\\site-packages (from geomet<0.3,>=0.1->cassandra-driver) (1.17.0)\n",
      "Requirement already satisfied: click in e:\\internship_projects\\thyroid_disease_detection_ml\\myvenv\\lib\\site-packages (from geomet<0.3,>=0.1->cassandra-driver) (8.1.8)\n",
      "Requirement already satisfied: importlib-metadata in e:\\internship_projects\\thyroid_disease_detection_ml\\myvenv\\lib\\site-packages (from click->geomet<0.3,>=0.1->cassandra-driver) (6.7.0)\n",
      "Requirement already satisfied: colorama in e:\\internship_projects\\thyroid_disease_detection_ml\\myvenv\\lib\\site-packages (from click->geomet<0.3,>=0.1->cassandra-driver) (0.4.6)\n",
      "Requirement already satisfied: typing-extensions>=3.6.4 in e:\\internship_projects\\thyroid_disease_detection_ml\\myvenv\\lib\\site-packages (from importlib-metadata->click->geomet<0.3,>=0.1->cassandra-driver) (4.7.1)\n",
      "Requirement already satisfied: zipp>=0.5 in e:\\internship_projects\\thyroid_disease_detection_ml\\myvenv\\lib\\site-packages (from importlib-metadata->click->geomet<0.3,>=0.1->cassandra-driver) (3.15.0)\n",
      "Note: you may need to restart the kernel to use updated packages.\n"
     ]
    }
   ],
   "source": [
    "pip install cassandra-driver\n"
   ]
  },
  {
   "cell_type": "code",
   "execution_count": 9,
   "metadata": {},
   "outputs": [],
   "source": [
    "import cassandra"
   ]
  },
  {
   "cell_type": "code",
   "execution_count": 10,
   "metadata": {},
   "outputs": [
    {
     "name": "stdout",
     "output_type": "stream",
     "text": [
      "3.29.2\n"
     ]
    }
   ],
   "source": [
    "print(cassandra.__version__)"
   ]
  },
  {
   "cell_type": "code",
   "execution_count": null,
   "metadata": {},
   "outputs": [],
   "source": []
  }
 ],
 "metadata": {
  "kernelspec": {
   "display_name": "Python 3",
   "language": "python",
   "name": "python3"
  },
  "language_info": {
   "codemirror_mode": {
    "name": "ipython",
    "version": 3
   },
   "file_extension": ".py",
   "mimetype": "text/x-python",
   "name": "python",
   "nbconvert_exporter": "python",
   "pygments_lexer": "ipython3",
   "version": "3.7.0"
  }
 },
 "nbformat": 4,
 "nbformat_minor": 2
}
